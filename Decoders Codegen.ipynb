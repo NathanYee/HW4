{
 "cells": [
  {
   "cell_type": "code",
   "execution_count": null,
   "metadata": {},
   "outputs": [],
   "source": [
    "module mux32to1by32\n",
    "(\n",
    "output[31:0]  out,\n",
    "input[4:0]    address,\n",
    "input[31:0]   input0,input1,input2,input3,input4,input5,input6,input7,input8,input9,input10,input11,input12,input13,input14,input15,input16,input17,input18,input19,input20,input21,input22,input23,input24,input25,input26,input27,input28,input29,input30,input31\n",
    ");\n",
    "\n",
    "  wire[31:0] mux[31:0];         // Create a 2D array of wires\n",
    "  \n",
    "  assign mux[0] = input0;       // Connect the sources of the array\n",
    "  assign mux[1] = input1;\n",
    "  assign mux[2] = input2;\n",
    "  assign mux[3] = input3;\n",
    "  assign mux[4] = input4;\n",
    "  assign mux[5] = input5;\n",
    "  assign mux[6] = input6;\n",
    "  assign mux[7] = input7;\n",
    "  assign mux[8] = input8;\n",
    "  assign mux[9] = input9;\n",
    "  assign mux[10] = input10;\n",
    "  assign mux[11] = input11;\n",
    "  assign mux[12] = input12;\n",
    "  assign mux[13] = input13;\n",
    "  assign mux[14] = input14;\n",
    "  assign mux[15] = input15;\n",
    "  assign mux[16] = input16;\n",
    "  assign mux[17] = input17;\n",
    "  assign mux[18] = input18;\n",
    "  assign mux[19] = input19;\n",
    "  assign mux[20] = input20;\n",
    "  assign mux[21] = input21;\n",
    "  assign mux[22] = input22;\n",
    "  assign mux[23] = input23;\n",
    "  assign mux[24] = input24;\n",
    "  assign mux[25] = input25;\n",
    "  assign mux[26] = input26;\n",
    "  assign mux[27] = input27;\n",
    "  assign mux[28] = input28;\n",
    "  assign mux[29] = input29;\n",
    "  assign mux[30] = input30;\n",
    "  assign mux[31] = input31;\n",
    "    \n",
    "  assign out = mux[address];     // Connect the output of the array\n",
    "endmodule"
   ]
  },
  {
   "cell_type": "code",
   "execution_count": 5,
   "metadata": {},
   "outputs": [
    {
     "data": {
      "text/plain": [
       "'input0,input1,input2,input3,input4,input5,input6,input7,input8,input9,input10,input11,input12,input13,input14,input15,input16,input17,input18,input19,input20,input21,input22,input23,input24,input25,input26,input27,input28,input29,input30,input31,'"
      ]
     },
     "execution_count": 5,
     "metadata": {},
     "output_type": "execute_result"
    }
   ],
   "source": [
    "string = \"\"\n",
    "for i in range(32):\n",
    "    string += f'input{i},'\n",
    "string"
   ]
  },
  {
   "cell_type": "code",
   "execution_count": 8,
   "metadata": {},
   "outputs": [
    {
     "name": "stdout",
     "output_type": "stream",
     "text": [
      "  assign mux[0] = input0;\n",
      "  assign mux[1] = input1;\n",
      "  assign mux[2] = input2;\n",
      "  assign mux[3] = input3;\n",
      "  assign mux[4] = input4;\n",
      "  assign mux[5] = input5;\n",
      "  assign mux[6] = input6;\n",
      "  assign mux[7] = input7;\n",
      "  assign mux[8] = input8;\n",
      "  assign mux[9] = input9;\n",
      "  assign mux[10] = input10;\n",
      "  assign mux[11] = input11;\n",
      "  assign mux[12] = input12;\n",
      "  assign mux[13] = input13;\n",
      "  assign mux[14] = input14;\n",
      "  assign mux[15] = input15;\n",
      "  assign mux[16] = input16;\n",
      "  assign mux[17] = input17;\n",
      "  assign mux[18] = input18;\n",
      "  assign mux[19] = input19;\n",
      "  assign mux[20] = input20;\n",
      "  assign mux[21] = input21;\n",
      "  assign mux[22] = input22;\n",
      "  assign mux[23] = input23;\n",
      "  assign mux[24] = input24;\n",
      "  assign mux[25] = input25;\n",
      "  assign mux[26] = input26;\n",
      "  assign mux[27] = input27;\n",
      "  assign mux[28] = input28;\n",
      "  assign mux[29] = input29;\n",
      "  assign mux[30] = input30;\n",
      "  assign mux[31] = input31;\n"
     ]
    }
   ],
   "source": [
    "for i in range(32):\n",
    "    print(f\"  assign mux[{i}] = input{i};\")"
   ]
  },
  {
   "cell_type": "code",
   "execution_count": null,
   "metadata": {},
   "outputs": [],
   "source": []
  }
 ],
 "metadata": {
  "kernelspec": {
   "display_name": "Python 3",
   "language": "python",
   "name": "python3"
  },
  "language_info": {
   "codemirror_mode": {
    "name": "ipython",
    "version": 3
   },
   "file_extension": ".py",
   "mimetype": "text/x-python",
   "name": "python",
   "nbconvert_exporter": "python",
   "pygments_lexer": "ipython3",
   "version": "3.6.6"
  }
 },
 "nbformat": 4,
 "nbformat_minor": 2
}

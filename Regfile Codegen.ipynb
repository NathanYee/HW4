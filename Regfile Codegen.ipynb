{
 "cells": [
  {
   "cell_type": "code",
   "execution_count": 2,
   "metadata": {},
   "outputs": [
    {
     "name": "stdout",
     "output_type": "stream",
     "text": [
      "register32 register1(.q(registers[1]),.d(WriteData),.wrenable(registerSelect),.clk(Clk));\n",
      "register32 register2(.q(registers[2]),.d(WriteData),.wrenable(registerSelect),.clk(Clk));\n",
      "register32 register3(.q(registers[3]),.d(WriteData),.wrenable(registerSelect),.clk(Clk));\n",
      "register32 register4(.q(registers[4]),.d(WriteData),.wrenable(registerSelect),.clk(Clk));\n",
      "register32 register5(.q(registers[5]),.d(WriteData),.wrenable(registerSelect),.clk(Clk));\n",
      "register32 register6(.q(registers[6]),.d(WriteData),.wrenable(registerSelect),.clk(Clk));\n",
      "register32 register7(.q(registers[7]),.d(WriteData),.wrenable(registerSelect),.clk(Clk));\n",
      "register32 register8(.q(registers[8]),.d(WriteData),.wrenable(registerSelect),.clk(Clk));\n",
      "register32 register9(.q(registers[9]),.d(WriteData),.wrenable(registerSelect),.clk(Clk));\n",
      "register32 register10(.q(registers[10]),.d(WriteData),.wrenable(registerSelect),.clk(Clk));\n",
      "register32 register11(.q(registers[11]),.d(WriteData),.wrenable(registerSelect),.clk(Clk));\n",
      "register32 register12(.q(registers[12]),.d(WriteData),.wrenable(registerSelect),.clk(Clk));\n",
      "register32 register13(.q(registers[13]),.d(WriteData),.wrenable(registerSelect),.clk(Clk));\n",
      "register32 register14(.q(registers[14]),.d(WriteData),.wrenable(registerSelect),.clk(Clk));\n",
      "register32 register15(.q(registers[15]),.d(WriteData),.wrenable(registerSelect),.clk(Clk));\n",
      "register32 register16(.q(registers[16]),.d(WriteData),.wrenable(registerSelect),.clk(Clk));\n",
      "register32 register17(.q(registers[17]),.d(WriteData),.wrenable(registerSelect),.clk(Clk));\n",
      "register32 register18(.q(registers[18]),.d(WriteData),.wrenable(registerSelect),.clk(Clk));\n",
      "register32 register19(.q(registers[19]),.d(WriteData),.wrenable(registerSelect),.clk(Clk));\n",
      "register32 register20(.q(registers[20]),.d(WriteData),.wrenable(registerSelect),.clk(Clk));\n",
      "register32 register21(.q(registers[21]),.d(WriteData),.wrenable(registerSelect),.clk(Clk));\n",
      "register32 register22(.q(registers[22]),.d(WriteData),.wrenable(registerSelect),.clk(Clk));\n",
      "register32 register23(.q(registers[23]),.d(WriteData),.wrenable(registerSelect),.clk(Clk));\n",
      "register32 register24(.q(registers[24]),.d(WriteData),.wrenable(registerSelect),.clk(Clk));\n",
      "register32 register25(.q(registers[25]),.d(WriteData),.wrenable(registerSelect),.clk(Clk));\n",
      "register32 register26(.q(registers[26]),.d(WriteData),.wrenable(registerSelect),.clk(Clk));\n",
      "register32 register27(.q(registers[27]),.d(WriteData),.wrenable(registerSelect),.clk(Clk));\n",
      "register32 register28(.q(registers[28]),.d(WriteData),.wrenable(registerSelect),.clk(Clk));\n",
      "register32 register29(.q(registers[29]),.d(WriteData),.wrenable(registerSelect),.clk(Clk));\n",
      "register32 register30(.q(registers[30]),.d(WriteData),.wrenable(registerSelect),.clk(Clk));\n",
      "register32 register31(.q(registers[31]),.d(WriteData),.wrenable(registerSelect),.clk(Clk));\n"
     ]
    }
   ],
   "source": [
    "for i in range(1,32):\n",
    "    print(f\"register32 register{i}(.q(registers[{i}]),.d(WriteData),.wrenable(registerSelect),.clk(Clk));\")"
   ]
  },
  {
   "cell_type": "code",
   "execution_count": 13,
   "metadata": {},
   "outputs": [
    {
     "name": "stdout",
     "output_type": "stream",
     "text": [
      "mux32to1by32 mux1(.out(ReadData1),.address(ReadRegister1),.input0(registers[0]),.input1(registers[1]),.input2(registers[2]),.input3(registers[3]),.input4(registers[4]),.input5(registers[5]),.input6(registers[6]),.input7(registers[7]),.input8(registers[8]),.input9(registers[9]),.input10(registers[10]),.input11(registers[11]),.input12(registers[12]),.input13(registers[13]),.input14(registers[14]),.input15(registers[15]),.input16(registers[16]),.input17(registers[17]),.input18(registers[18]),.input19(registers[19]),.input20(registers[20]),.input21(registers[21]),.input22(registers[22]),.input23(registers[23]),.input24(registers[24]),.input25(registers[25]),.input26(registers[26]),.input27(registers[27]),.input28(registers[28]),.input29(registers[29]),.input30(registers[30]),.input31(registers[31]));\n"
     ]
    }
   ],
   "source": [
    "inputs = \"\"\n",
    "for i in range(32):\n",
    "    if i == 31:\n",
    "        inputs += f\".input{i}(registers[{i}])\"\n",
    "    else:\n",
    "        inputs += f\".input{i}(registers[{i}]),\"\n",
    "print(f\"mux32to1by32 mux1(.out(ReadData1),.address(ReadRegister1),{inputs});\")"
   ]
  },
  {
   "cell_type": "code",
   "execution_count": null,
   "metadata": {},
   "outputs": [],
   "source": []
  }
 ],
 "metadata": {
  "kernelspec": {
   "display_name": "Python [conda env:anaconda3]",
   "language": "python",
   "name": "conda-env-anaconda3-py"
  },
  "language_info": {
   "codemirror_mode": {
    "name": "ipython",
    "version": 3
   },
   "file_extension": ".py",
   "mimetype": "text/x-python",
   "name": "python",
   "nbconvert_exporter": "python",
   "pygments_lexer": "ipython3",
   "version": "3.6.6"
  }
 },
 "nbformat": 4,
 "nbformat_minor": 2
}
